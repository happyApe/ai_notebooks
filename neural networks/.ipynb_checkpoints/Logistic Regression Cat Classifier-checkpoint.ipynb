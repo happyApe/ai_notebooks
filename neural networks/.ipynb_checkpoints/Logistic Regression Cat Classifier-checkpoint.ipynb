{
 "cells": [
  {
   "cell_type": "code",
   "execution_count": 3,
   "metadata": {},
   "outputs": [],
   "source": [
    "import numpy as np \n",
    "import matplotlib.pyplot as plt\n",
    "import h5py\n",
    "import scipy\n",
    "from PIL import Image\n",
    "from scipy import ndimage\n",
    "%matplotlib inline"
   ]
  },
  {
   "cell_type": "code",
   "execution_count": 8,
   "metadata": {},
   "outputs": [],
   "source": [
    "def load_dataset():\n",
    "    train_dataset = h5py.File('cat_datasets/train_catvnoncat.h5',\"r\")\n",
    "    train_x = np.array(train_dataset[\"train_set_x\"][:])\n",
    "    train_y = np.array(train_dataset[\"train_set_y\"][:])\n",
    "    \n",
    "    test_dataset = h5py.File('cat_datasets/test_catvnoncat.h5',\"r\")\n",
    "    test_x = np.array(test_dataset[\"test_set_x\"][:])\n",
    "    test_y = np.array(test_dataset[\"test_set_y\"][:])\n",
    "    \n",
    "    classes = np.array(test_dataset[\"list_classes\"][:])\n",
    "    \n",
    "    train_y = train_y.reshape(1,train_y.shape[0])\n",
    "    test_y = test_y.reshape(1,test_y.shape[0])\n",
    "    \n",
    "    return train_x,train_y,test_x,test_y,classes"
   ]
  },
  {
   "cell_type": "code",
   "execution_count": 20,
   "metadata": {},
   "outputs": [],
   "source": [
    "x_train,y_train,x_test,y_test,classes = load_dataset()"
   ]
  },
  {
   "cell_type": "code",
   "execution_count": 23,
   "metadata": {},
   "outputs": [
    {
     "name": "stdout",
     "output_type": "stream",
     "text": [
      "(209, 64, 64, 3)\n"
     ]
    }
   ],
   "source": [
    "print(x_train.shape)"
   ]
  },
  {
   "cell_type": "code",
   "execution_count": 26,
   "metadata": {},
   "outputs": [
    {
     "name": "stdout",
     "output_type": "stream",
     "text": [
      "(1, 209)\n"
     ]
    }
   ],
   "source": [
    "print(y_train.shape)"
   ]
  },
  {
   "cell_type": "code",
   "execution_count": 28,
   "metadata": {},
   "outputs": [
    {
     "name": "stdout",
     "output_type": "stream",
     "text": [
      "[b'non-cat' b'cat']\n"
     ]
    }
   ],
   "source": [
    "print(classes)"
   ]
  },
  {
   "cell_type": "code",
   "execution_count": 31,
   "metadata": {},
   "outputs": [
    {
     "name": "stdout",
     "output_type": "stream",
     "text": [
      "y = [1]\n",
      "It is a cat\n"
     ]
    },
    {
     "data": {
      "image/png": "[encoded data removed]",
      "text/plain": [
       "<Figure size 432x288 with 1 Axes>"
      ]
     },
     "metadata": {
      "needs_background": "light"
     },
     "output_type": "display_data"
    }
   ],
   "source": [
    "## Checking \n",
    "\n",
    "index = (np.random.randint(0,x_train.shape[0]))\n",
    "plt.imshow(x_train[index])\n",
    "print(\"y = \" + str(y_train[:,index]))\n",
    "print('It is a', classes[np.squeeze(y_train[:,index])].decode(\"utf-8\"))"
   ]
  },
  {
   "cell_type": "code",
   "execution_count": 35,
   "metadata": {},
   "outputs": [
    {
     "name": "stdout",
     "output_type": "stream",
     "text": [
      "Total Training images = 209\n",
      "Total Test images = 50\n",
      "Shape of each image = (64, 64, 3)\n"
     ]
    }
   ],
   "source": [
    "# m_train = number of samples in train\n",
    "# m_test = numnber of samples in test\n",
    "# num_px = (height = width) of training image\n",
    "m_train  = x_train.shape[0]\n",
    "m_test = x_test.shape[0]\n",
    "num_px = x_test[0].shape[0]\n",
    "print(\"Total Training images = \" + str(m_train))\n",
    "print(\"Total Test images = \" + str(m_test))\n",
    "print(\"Shape of each image = (\" + str(num_px) + \", \" + str(num_px) + \", \" + \"3)\")"
   ]
  },
  {
   "cell_type": "code",
   "execution_count": 38,
   "metadata": {},
   "outputs": [],
   "source": [
    "# reshaping the images of both test and train to a single vector\n",
    "\n",
    "flatten_x_train = x_train.reshape(x_train.shape[0],-1).T\n",
    "flatten_x_test = x_test.reshape(x_test.shape[0],-1).T\n"
   ]
  },
  {
   "cell_type": "code",
   "execution_count": 37,
   "metadata": {},
   "outputs": [
    {
     "name": "stdout",
     "output_type": "stream",
     "text": [
      "(12288, 209)\n"
     ]
    }
   ],
   "source": [
    "print(flatten_x_train.shape)"
   ]
  },
  {
   "cell_type": "code",
   "execution_count": 39,
   "metadata": {},
   "outputs": [],
   "source": [
    "# standardize/normalize our dataset as pixel value is in 0 to 255 so, \n",
    "train_x = flatten_x_train/255\n",
    "test_x = flatten_x_test/255"
   ]
  },
  {
   "cell_type": "markdown",
   "metadata": {},
   "source": [
    "t's time to design a simple algorithm to distinguish cat images from non-cat images.\n",
    "\n",
    "You will build a Logistic Regression, using a Neural Network mindset. The following Figure explains why Logistic Regression is actually a very simple Neural Network!\n",
    "\n",
    "Mathematical expression of the algorithm:\n",
    "\n",
    "For one example $x^{(i)}$: $$z^{(i)} = w^T x^{(i)} + b \\tag{1}$$ $$\\hat{y}^{(i)} = a^{(i)} = sigmoid(z^{(i)})\\tag{2}$$ $$ \\mathcal{L}(a^{(i)}, y^{(i)}) = - y^{(i)} \\log(a^{(i)}) - (1-y^{(i)} ) \\log(1-a^{(i)})\\tag{3}$$\n",
    "\n",
    "The cost is then computed by summing over all training examples: $$ J = \\frac{1}{m} \\sum_{i=1}^m \\mathcal{L}(a^{(i)}, y^{(i)})\\tag{6}$$\n",
    "\n",
    "Key steps: In this exercise, you will carry out the following steps:\n",
    "\n",
    "- Initialize the parameters of the model\n",
    "- Learn the parameters for the model by minimizing the cost  \n",
    "- Use the learned parameters to make predictions (on the test set)\n",
    "- Analyse the results and conclude"
   ]
  },
  {
   "cell_type": "markdown",
   "metadata": {},
   "source": [
    "\n",
    "4 - Building the parts of our algorithm\n",
    "\n",
    "The main steps for building a Neural Network are:\n",
    "\n",
    "    Define the model structure (such as number of input features)\n",
    "    Initialize the model's parameters\n",
    "    Loop:\n",
    "        Calculate current loss (forward propagation)\n",
    "        Calculate current gradient (backward propagation)\n",
    "        Update parameters (gradient descent)\n",
    "\n",
    "You often build 1-3 separately and integrate them into one function we call model()."
   ]
  },
  {
   "cell_type": "code",
   "execution_count": 53,
   "metadata": {},
   "outputs": [],
   "source": [
    "def initializer_with_zeros(shape):\n",
    "    w = np.zeros((shape,1))\n",
    "    b = 0\n",
    "    return w,b"
   ]
  },
  {
   "cell_type": "code",
   "execution_count": 54,
   "metadata": {},
   "outputs": [],
   "source": [
    "def sigmoid(x) : \n",
    "    return 1/(1 + np.exp(-x))"
   ]
  },
  {
   "cell_type": "code",
   "execution_count": 86,
   "metadata": {},
   "outputs": [],
   "source": [
    "def propogate(w,b,X,Y):\n",
    "    \"\"\" \n",
    "    Cost Function (costs) and Gradients (dw,db) calculator \n",
    "    \"\"\"\n",
    "    \n",
    "    m = X.shape[1]\n",
    "    \n",
    "    \n",
    "    # Forward Propogation\n",
    "    \n",
    "    A = sigmoid(np.dot(w.T,X) + b)\n",
    "    # loss function \n",
    "    cost = -1/m*(np.sum(Y*np.log(A) + (1-Y)*np.log(1-A)))\n",
    "    cost = np.squeeze(cost)\n",
    "    # Backward Propogation\n",
    "    dw = 1/m * (np.dot(X,((A-Y).T)))\n",
    "    db = 1/m * (np.sum(A-Y))\n",
    "    \n",
    "    grads = {\"dw\":dw,\"db\":db}\n",
    "    \n",
    "    return grads,cost"
   ]
  },
  {
   "cell_type": "code",
   "execution_count": 87,
   "metadata": {},
   "outputs": [
    {
     "data": {
      "text/plain": [
       "(12288, 209)"
      ]
     },
     "execution_count": 87,
     "metadata": {},
     "output_type": "execute_result"
    }
   ],
   "source": [
    "train_x.shape"
   ]
  },
  {
   "cell_type": "code",
   "execution_count": 88,
   "metadata": {},
   "outputs": [],
   "source": [
    "def optimizer(w,b,X,Y,num_iterations,learning_rate,print_cost = False) : \n",
    "    \n",
    "    costs = []\n",
    "    # Gradient Descent \n",
    "    \n",
    "    for i in range(num_iterations) :\n",
    "         \n",
    "        grads,cost = propogate(w,b,X,Y) \n",
    "        \n",
    "        w  = w - learning_rate * grads[\"dw\"]\n",
    "        b = b - learning_rate * grads[\"db\"]\n",
    "        \n",
    "        if i  % 100 == 0 : \n",
    "            costs.append(cost)\n",
    "        \n",
    "        # print cost every 100th iteration\n",
    "        if print_cost and i%100==0:\n",
    "            print(\"cost after iteration %i: %:f\"%(i,cost))\n",
    "            \n",
    "    dw = grads[\"dw\"]\n",
    "    db = grads[\"db\"]\n",
    "    params = {\"w\":w,\"b\":b}\n",
    "    grads = {\"dw\":dw,\"db\":db}\n",
    "    return params,grads,costs"
   ]
  },
  {
   "cell_type": "code",
   "execution_count": 89,
   "metadata": {},
   "outputs": [],
   "source": [
    "def predict(w,b,X):\n",
    "    m = X.shape[1]\n",
    "    Y_pred = np.zeros((1,m))\n",
    "    w = w.reshape(X.shape[0],1)\n",
    "    \n",
    "    A = sigmoid(np.dot(w.T,X) + b)\n",
    "    \n",
    "    for i in range(A.shape[1]):\n",
    "        Y_pred[0][i] = 1 if A[0][i]>0.5 else 0 \n",
    "    return Y_pred"
   ]
  },
  {
   "cell_type": "code",
   "execution_count": 93,
   "metadata": {},
   "outputs": [],
   "source": [
    "def accuracy(Y_pred,Y_train):\n",
    "    return 100 - np.mean(np.abs(Y_pred - Y_train))*100"
   ]
  },
  {
   "cell_type": "code",
   "execution_count": 105,
   "metadata": {},
   "outputs": [],
   "source": [
    "def model(X_train,Y_train,X_test,Y_test,num_iterations = 2000,learning_rate = 0.5,print_cost = False):\n",
    "    \"\"\"\n",
    "    A logisitic regression cat classifier \n",
    "    \"\"\"\n",
    "    \n",
    "    # Weights and biases initalizer with zeros\n",
    "    w,b  = initializer_with_zeros(X_train.shape[0])\n",
    "    \n",
    "    # Running Gradient descent\n",
    "    params,grads,costs = optimizer(w,b,X_train,Y_train,num_iterations,learning_rate,print_cost = False)\n",
    "    \n",
    "    # Getting params from the dictionary outputted by optimizer\n",
    "    w = params['w']\n",
    "    b = params['b']\n",
    "    \n",
    "    # Predictions\n",
    "    \n",
    "    Y_pred_train = predict(w,b,X_train)\n",
    "    Y_pred_test = predict(w,b,X_test)\n",
    "    \n",
    "    # Accuracy metrics\n",
    "    \n",
    "    train_acc = accuracy(Y_pred_train,Y_train)\n",
    "    test_acc = accuracy(Y_pred_test,Y_test)\n",
    "    \n",
    "    print(\"Training Accuracy :\",train_acc)\n",
    "    print(\"Test Accuracy :\",test_acc)\n",
    "    \n",
    "    \n",
    "    d = {\"costs\":costs,\"Y_pred_train\":Y_pred_train,\"Y_pred_test\":Y_pred_test,\n",
    "         \"w\":w,\"b\":b,\"learning_rate\":learning_rate,\"num_iterations\":num_iterations}\n",
    "    \n",
    "    return d"
   ]
  },
  {
   "cell_type": "code",
   "execution_count": 106,
   "metadata": {},
   "outputs": [
    {
     "name": "stderr",
     "output_type": "stream",
     "text": [
      "<ipython-input-86-9ab4c7be3567>:13: RuntimeWarning: divide by zero encountered in log\n",
      "  cost = -1/m*(np.sum(Y*np.log(A) + (1-Y)*np.log(1-A)))\n",
      "<ipython-input-86-9ab4c7be3567>:13: RuntimeWarning: invalid value encountered in multiply\n",
      "  cost = -1/m*(np.sum(Y*np.log(A) + (1-Y)*np.log(1-A)))\n",
      "<ipython-input-54-fb777a8a12d3>:2: RuntimeWarning: overflow encountered in exp\n",
      "  return 1/(1 + np.exp(-x))\n"
     ]
    },
    {
     "name": "stdout",
     "output_type": "stream",
     "text": [
      "Training Accuracy : 100.0\n",
      "Test Accuracy : 72.0\n"
     ]
    }
   ],
   "source": [
    "d = model(train_x,y_train,test_x,y_test,print_cost=True)"
   ]
  },
  {
   "cell_type": "code",
   "execution_count": 113,
   "metadata": {},
   "outputs": [
    {
     "data": {
      "image/png": "[encoded data removed]",
      "text/plain": [
       "<Figure size 432x288 with 1 Axes>"
      ]
     },
     "metadata": {
      "needs_background": "light"
     },
     "output_type": "display_data"
    }
   ],
   "source": [
    "costs = np.squeeze(d['costs'])\n",
    "plt.plot(costs)\n",
    "plt.ylabel('cost')\n",
    "plt.xlabel('iterations (per hundreds)')\n",
    "plt.title(\"Learning rate =\" + str(d[\"learning_rate\"]))\n",
    "plt.show()"
   ]
  },
  {
   "cell_type": "code",
   "execution_count": null,
   "metadata": {},
   "outputs": [],
   "source": [
    "\n"
   ]
  }
 ],
 "metadata": {
  "kernelspec": {
   "display_name": "Python 3",
   "language": "python",
   "name": "python3"
  },
  "language_info": {
   "codemirror_mode": {
    "name": "ipython",
    "version": 3
   },
   "file_extension": ".py",
   "mimetype": "text/x-python",
   "name": "python",
   "nbconvert_exporter": "python",
   "pygments_lexer": "ipython3",
   "version": "3.8.6"
  }
 },
 "nbformat": 4,
 "nbformat_minor": 4
}
