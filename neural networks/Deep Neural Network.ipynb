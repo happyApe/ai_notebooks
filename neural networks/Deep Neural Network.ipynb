{
 "cells": [
  {
   "cell_type": "code",
   "execution_count": 1,
   "metadata": {},
   "outputs": [],
   "source": [
    "import numpy as np\n",
    "import matplotlib.pyplot as plt"
   ]
  },
  {
   "cell_type": "code",
   "execution_count": 2,
   "metadata": {},
   "outputs": [],
   "source": [
    "# some utility functions\n",
    "\n",
    "def sigmoid(z) : \n",
    "    return 1/(1 + np.exp(-z)),z\n",
    "\n",
    "def relu(z) : \n",
    "    return np.maximum(0,z),z\n",
    "\n",
    "def relu_backward(dA,cache):\n",
    "    z = cache\n",
    "    dz = np.array(dA,copy = True)\n",
    "    dz[z<=0] = 0 # for z<=0 dz should be 0 \n",
    "    return dz\n",
    "\n",
    "def sigmoid_backward(dA,cache) : \n",
    "    z = cache\n",
    "    s = sigmoid(z)[0]\n",
    "    return dA*s *(1-s)"
   ]
  },
  {
   "cell_type": "markdown",
   "metadata": {},
   "source": [
    "## 2 Layer NN \n",
    "Linear -> Relu -> Linear -> Sigmoid"
   ]
  },
  {
   "cell_type": "code",
   "execution_count": 3,
   "metadata": {},
   "outputs": [],
   "source": [
    "def initalize_parameters_2LayerNN(nX,nH,nY) : \n",
    "    \"\"\"\n",
    "    nX = size of input layer\n",
    "    nH = size of hidden layer\n",
    "    nY = size of output layer\n",
    "    \"\"\"\n",
    "    w1 = np.random.randn(nH,nX)*0.01\n",
    "    w2 = np.random.randn(nY,nH) * 0.01\n",
    "    b1 = np.zeros((nH,1))\n",
    "    b2 = np.zeros((nY,1))\n",
    "    \n",
    "    params = {\"w1\":w1,\"b1\":b1,\"w2\":w2,\"b2\":b2}\n",
    "    \n",
    "    return params"
   ]
  },
  {
   "cell_type": "code",
   "execution_count": 4,
   "metadata": {},
   "outputs": [
    {
     "data": {
      "text/plain": [
       "{'w1': array([[ 0.00308047, -0.00149303, -0.00059001],\n",
       "        [-0.00968522,  0.00604529,  0.02147164]]),\n",
       " 'b1': array([[0.],\n",
       "        [0.]]),\n",
       " 'w2': array([[-0.00764779,  0.00727941]]),\n",
       " 'b2': array([[0.]])}"
      ]
     },
     "execution_count": 4,
     "metadata": {},
     "output_type": "execute_result"
    }
   ],
   "source": [
    "params = initalize_parameters_2LayerNN(3,2,1)\n",
    "params"
   ]
  },
  {
   "cell_type": "markdown",
   "metadata": {},
   "source": [
    "## L Layer NN\n",
    "( Linear -> Relu ) * (L-1) times -> Linear -> Sigmoid"
   ]
  },
  {
   "cell_type": "code",
   "execution_count": 5,
   "metadata": {},
   "outputs": [],
   "source": [
    "def initialize_parameters_LlayerNN(layer_dims) : \n",
    "    # number of layers\n",
    "    L = len(layer_dims) \n",
    "    np.random.seed(1)\n",
    "    \n",
    "    params = {}\n",
    "    \n",
    "    for l in range(1,L):\n",
    "        \n",
    "        # Weights per layer\n",
    "        params[\"w\" + str(l)] = np.random.randn(layer_dims[l],layer_dims[l-1]) * 0.01\n",
    "        \n",
    "        # Biases per layer\n",
    "        params[\"b\" + str(l)] = np.zeros((layer_dims[l],1))\n",
    "        \n",
    "    return params"
   ]
  },
  {
   "cell_type": "code",
   "execution_count": 6,
   "metadata": {},
   "outputs": [
    {
     "data": {
      "text/plain": [
       "{'w1': array([[ 0.01624345, -0.00611756, -0.00528172, -0.01072969,  0.00865408],\n",
       "        [-0.02301539,  0.01744812, -0.00761207,  0.00319039, -0.0024937 ],\n",
       "        [ 0.01462108, -0.02060141, -0.00322417, -0.00384054,  0.01133769],\n",
       "        [-0.01099891, -0.00172428, -0.00877858,  0.00042214,  0.00582815]]),\n",
       " 'b1': array([[0.],\n",
       "        [0.],\n",
       "        [0.],\n",
       "        [0.]]),\n",
       " 'w2': array([[-0.01100619,  0.01144724,  0.00901591,  0.00502494],\n",
       "        [ 0.00900856, -0.00683728, -0.0012289 , -0.00935769],\n",
       "        [-0.00267888,  0.00530355, -0.00691661, -0.00396754]]),\n",
       " 'b2': array([[0.],\n",
       "        [0.],\n",
       "        [0.]]),\n",
       " 'w3': array([[-0.00687173, -0.00845206, -0.00671246]]),\n",
       " 'b3': array([[0.]])}"
      ]
     },
     "execution_count": 6,
     "metadata": {},
     "output_type": "execute_result"
    }
   ],
   "source": [
    "params = initialize_parameters_LlayerNN([5,4,3,1])\n",
    "params"
   ]
  },
  {
   "cell_type": "markdown",
   "metadata": {},
   "source": [
    "## Forward Progpogation Mechanism"
   ]
  },
  {
   "cell_type": "markdown",
   "metadata": {},
   "source": [
    "### linear forward progpogation to compute z and then apply activation mechanism"
   ]
  },
  {
   "cell_type": "code",
   "execution_count": 7,
   "metadata": {},
   "outputs": [],
   "source": [
    "def linear_forward_activation(A,w,b,activation) : \n",
    "    z = np.dot(w,A) + b\n",
    "    linear_cache = (A,w,b)\n",
    "    if activation == 'relu' : \n",
    "        A_next,activation_cache = relu(z)\n",
    "    if activation == 'sigmoid':\n",
    "        A_next,activation_cache = sigmoid(z) \n",
    "    cache = (linear_cache,activation_cache)\n",
    "    return A_next,cache"
   ]
  },
  {
   "cell_type": "code",
   "execution_count": 8,
   "metadata": {},
   "outputs": [
    {
     "data": {
      "text/plain": [
       "array([[0.96890023, 0.11013289]])"
      ]
     },
     "execution_count": 8,
     "metadata": {},
     "output_type": "execute_result"
    }
   ],
   "source": [
    "np.random.seed(2)\n",
    "A,w,b = (np.random.randn(3,2),np.random.randn(1,3),np.random.randn(1,1))\n",
    "A_next,cache = linear_forward_activation(A,w,b,'sigmoid')\n",
    "A_next"
   ]
  },
  {
   "cell_type": "markdown",
   "metadata": {},
   "source": [
    "## Refactoring for L layer NN"
   ]
  },
  {
   "cell_type": "code",
   "execution_count": 9,
   "metadata": {},
   "outputs": [],
   "source": [
    "def L_layer_model_Forward_prop(X,params) : \n",
    "\n",
    "    \"\"\"\n",
    "    X - data, np.array of shape (input_size,#examples)\n",
    "    params - params we got from initialize_parameters_LlayerNN function\n",
    "    \"\"\"\n",
    "    # number of layers in NN, half of the total params\n",
    "    L = len(params)//2 \n",
    "    A = X\n",
    "    \n",
    "    # implementing the Linear -> Relu  (L-1) times and keeping the cache\n",
    "    # for future use in backprop\n",
    "        \n",
    "    caches = []\n",
    "    \n",
    "    for l in range(1,L) : \n",
    "        \n",
    "        A_prev = A\n",
    "        A,cache = linear_forward_activation(A_prev,params[\"w\" + str(l)],params[\"b\" + str(l)],\"relu\")\n",
    "        caches.append(cache)\n",
    "    \n",
    "    # implementing the last forward prop step Linear->Sigmoid\n",
    "    AL,cache = linear_forward_activation(A,params[\"w\" + str(L)],params[\"b\" + str(L)],'sigmoid')\n",
    "    caches.append(cache)\n",
    "    \n",
    "    return AL,caches"
   ]
  },
  {
   "cell_type": "code",
   "execution_count": 10,
   "metadata": {},
   "outputs": [],
   "source": [
    "# a testcase function\n",
    "def L_model_forward_test_case_2hidden():\n",
    "    np.random.seed(6)\n",
    "    X = np.random.randn(5,4)\n",
    "    w1 = np.random.randn(4,5)\n",
    "    b1 = np.random.randn(4,1)\n",
    "    w2 = np.random.randn(3,4)\n",
    "    b2 = np.random.randn(3,1)\n",
    "    w3 = np.random.randn(1,3)\n",
    "    b3 = np.random.randn(1,1)\n",
    "  \n",
    "    parameters = {\"w1\": w1,\n",
    "                  \"b1\": b1,\n",
    "                  \"w2\": w2,\n",
    "                  \"b2\": b2,\n",
    "                  \"w3\": w3,\n",
    "                  \"b3\": b3}\n",
    "    \n",
    "    return X, parameters"
   ]
  },
  {
   "cell_type": "code",
   "execution_count": 11,
   "metadata": {},
   "outputs": [
    {
     "name": "stdout",
     "output_type": "stream",
     "text": [
      "AL= [[0.03921668 0.70498921 0.19734387 0.04728177]]\n",
      "Cache length= 3\n"
     ]
    }
   ],
   "source": [
    "X,params = L_model_forward_test_case_2hidden()\n",
    "AL,caches = L_layer_model_Forward_prop(X,params)\n",
    "print(\"AL=\",AL)\n",
    "print(\"Cache length=\",len(caches))"
   ]
  },
  {
   "cell_type": "markdown",
   "metadata": {},
   "source": [
    "## Cost Function "
   ]
  },
  {
   "cell_type": "code",
   "execution_count": 12,
   "metadata": {},
   "outputs": [],
   "source": [
    "def cost_function(AL,Y) : \n",
    "    \n",
    "    \"\"\"\n",
    "    AL - the final probability vector corresponding to label predictions\n",
    "    Y - the true label vector of shape (1,#examples)\n",
    "    \"\"\"\n",
    "    m = Y.shape[1]\n",
    "    # Computing loss\n",
    "    terms = np.dot(Y,np.log(AL).T) + np.dot((1-Y),np.log((1-AL).T))\n",
    "    cost = -1/m * np.sum(terms)\n",
    "    return np.squeeze(cost)"
   ]
  },
  {
   "cell_type": "code",
   "execution_count": 13,
   "metadata": {},
   "outputs": [
    {
     "name": "stdout",
     "output_type": "stream",
     "text": [
      "0.2797765635793422\n"
     ]
    }
   ],
   "source": [
    "Y = np.asarray([[1, 1, 0]])\n",
    "AL = np.array([[.8,.9,0.4]])\n",
    "print(cost_function(AL,Y))"
   ]
  },
  {
   "cell_type": "markdown",
   "metadata": {},
   "source": [
    "## Backward Propogation Mechanism"
   ]
  },
  {
   "cell_type": "code",
   "execution_count": 14,
   "metadata": {},
   "outputs": [],
   "source": [
    "def linear_backward(dZ,cache) :\n",
    "    \"\"\"\n",
    "    dZ - Gradient of cost with respect to linear output of current layer l\n",
    "    cache - (A_prev,w,b) fetched from forward propogation in current layer\n",
    "    \"\"\"\n",
    "    \n",
    "    A_prev,w,b = cache\n",
    "    m = A_prev.shape[1]\n",
    "    \n",
    "    dw = 1/m * np.dot(dZ,A_prev.T)\n",
    "    db = 1/m * np.sum(dZ,axis = 1,keepdims=True)\n",
    "    dA_prev = np.dot(w.T,dZ)\n",
    "    \n",
    "    return dA_prev,dw,db\n",
    "    "
   ]
  },
  {
   "cell_type": "code",
   "execution_count": 15,
   "metadata": {},
   "outputs": [],
   "source": [
    "def linear_backward_activation(dA,cache,activation) : \n",
    "    \"\"\"\n",
    "    dA - post activation gradient of current layer l \n",
    "    cache - (linear_cache,activation_cache)\n",
    "    \"\"\"\n",
    "    \n",
    "    linear_cache,activation_cache = cache\n",
    "    \n",
    "    if activation == 'relu' : \n",
    "        dZ = relu_backward(dA,activation_cache)\n",
    "        dA_prev,dw,db = linear_backward(dZ,linear_cache)\n",
    "    if activation == 'sigmoid' : \n",
    "        dZ = sigmoid_backward(dA,activation_cache)\n",
    "        dA_prev,dw,db = linear_backward(dZ,linear_cache)\n",
    "\n",
    "    return dA_prev,dw,db"
   ]
  },
  {
   "cell_type": "code",
   "execution_count": 16,
   "metadata": {},
   "outputs": [],
   "source": [
    "# Test case for backward activation\n",
    "def linear_activation_backward_test_case():\n",
    "    \"\"\"\n",
    "    aL, linear_activation_cache = (np.array([[ 3.1980455 ,  7.85763489]]), ((np.array([[-1.02387576,  1.12397796], [-1.62328545,  0.64667545], [-1.74314104, -0.59664964]]), np.array([[ 0.74505627,  1.97611078, -1.24412333]]), 5), np.array([[ 3.1980455 ,  7.85763489]])))\n",
    "    \"\"\"\n",
    "    np.random.seed(2)\n",
    "    dA = np.random.randn(1,2)\n",
    "    A = np.random.randn(3,2)\n",
    "    W = np.random.randn(1,3)\n",
    "    b = np.random.randn(1,1)\n",
    "    Z = np.random.randn(1,2)\n",
    "    linear_cache = (A, W, b)\n",
    "    activation_cache = Z\n",
    "    linear_activation_cache = (linear_cache, activation_cache)\n",
    "    \n",
    "    return dA, linear_activation_cache"
   ]
  },
  {
   "cell_type": "code",
   "execution_count": 17,
   "metadata": {},
   "outputs": [
    {
     "name": "stdout",
     "output_type": "stream",
     "text": [
      "sigmoid:\n",
      "dA_prev = [[ 0.11017994  0.01105339]\n",
      " [ 0.09466817  0.00949723]\n",
      " [-0.05743092 -0.00576154]]\n",
      "dw = [[ 0.10266786  0.09778551 -0.01968084]]\n",
      "db = [[-0.05729622]]\n",
      "\n",
      "relu:\n",
      "dA_prev = [[ 0.44090989  0.        ]\n",
      " [ 0.37883606  0.        ]\n",
      " [-0.2298228   0.        ]]\n",
      "dW = [[ 0.44513824  0.37371418 -0.10478989]]\n",
      "db = [[-0.20837892]]\n"
     ]
    }
   ],
   "source": [
    "dAL,linear_activation_cache = linear_activation_backward_test_case()\n",
    "\n",
    "dA_prev,dw,db = linear_backward_activation(dAL,linear_activation_cache,'sigmoid')\n",
    "print (\"sigmoid:\")\n",
    "print (\"dA_prev = \"+ str(dA_prev))\n",
    "print (\"dw = \" + str(dw))\n",
    "print (\"db = \" + str(db) + \"\\n\")\n",
    "\n",
    "dA_prev, dW, db = linear_backward_activation(dAL, linear_activation_cache, activation = \"relu\")\n",
    "print (\"relu:\")\n",
    "print (\"dA_prev = \"+ str(dA_prev))\n",
    "print (\"dW = \" + str(dW))\n",
    "print (\"db = \" + str(db))"
   ]
  },
  {
   "cell_type": "markdown",
   "metadata": {},
   "source": [
    "## Refactoring for L layer NN "
   ]
  },
  {
   "cell_type": "code",
   "execution_count": 18,
   "metadata": {},
   "outputs": [],
   "source": [
    "def L_layer_model_Backward_prop(AL,Y,caches) : \n",
    "    \"\"\"\n",
    "    AL - final probability vector outputted by forward prop\n",
    "    Y - True label vector\n",
    "    caches - list of cache contatining cache for each layer l during the forward prop\n",
    "    \"\"\"\n",
    "    grads = {}\n",
    "    m = AL.shape[1]\n",
    "    # Reshaping the Y vector to be as of AL\n",
    "    Y = Y.reshape(AL.shape) # TRY IT , SEE WHY NEEDED !!!\n",
    "    \n",
    "    # Computing the first backprop gradient dAL\n",
    "    dAL = -(np.divide(Y,AL) - np.divide((1-Y),(1-AL)))\n",
    "    \n",
    "    # Now we start the backprop \n",
    "    \n",
    "    L = len(caches)\n",
    "    \n",
    "    curr_cache = caches[L-1] # the curr_cache (starting from last layer)\n",
    "    # computing the first dA,dw,db from the dAL and sigmoid backward function\n",
    "    grads[\"dA\" + str(L-1)],grads[\"dw\" + str(L)],grads[\"db\" + str(L)] = linear_backward_activation(dAL,curr_cache,\"sigmoid\")\n",
    "    \n",
    "    \n",
    "    # from L-1 th layer to 1st layer\n",
    "    for l in reversed(range(L-1)) : \n",
    "        \n",
    "        curr_cache = caches[l]\n",
    "        dA_prev_temp,dw_temp,db_temp = linear_backward_activation(grads[\"dA\" + str(l+1)],curr_cache,\"relu\")\n",
    "        \n",
    "        grads[\"dA\" + str(l)] = dA_prev_temp\n",
    "        grads[\"dw\" + str(l+1)] = dw_temp\n",
    "        grads[\"db\" + str(l+1)] = db_temp\n",
    "        \n",
    "    return grads\n",
    "        "
   ]
  },
  {
   "cell_type": "code",
   "execution_count": 19,
   "metadata": {},
   "outputs": [],
   "source": [
    "# Test case for backword propogation \n",
    "def L_model_backward_test_case():\n",
    "    \"\"\"\n",
    "    X = np.random.rand(3,2)\n",
    "    Y = np.array([[1, 1]])\n",
    "    parameters = {'W1': np.array([[ 1.78862847,  0.43650985,  0.09649747]]), 'b1': np.array([[ 0.]])}\n",
    "    aL, caches = (np.array([[ 0.60298372,  0.87182628]]), [((np.array([[ 0.20445225,  0.87811744],\n",
    "           [ 0.02738759,  0.67046751],\n",
    "           [ 0.4173048 ,  0.55868983]]),\n",
    "    np.array([[ 1.78862847,  0.43650985,  0.09649747]]),\n",
    "    np.array([[ 0.]])),\n",
    "   np.array([[ 0.41791293,  1.91720367]]))])\n",
    "   \"\"\"\n",
    "    np.random.seed(3)\n",
    "    AL = np.random.randn(1, 2)\n",
    "    Y = np.array([[1, 0]])\n",
    "\n",
    "    A1 = np.random.randn(4,2)\n",
    "    w1 = np.random.randn(3,4)\n",
    "    b1 = np.random.randn(3,1)\n",
    "    Z1 = np.random.randn(3,2)\n",
    "    linear_cache_activation_1 = ((A1, w1, b1), Z1)\n",
    "\n",
    "    A2 = np.random.randn(3,2)\n",
    "    w2 = np.random.randn(1,3)\n",
    "    b2 = np.random.randn(1,1)\n",
    "    Z2 = np.random.randn(1,2)\n",
    "    linear_cache_activation_2 = ((A2, w2, b2), Z2)\n",
    "\n",
    "    caches = (linear_cache_activation_1, linear_cache_activation_2)\n",
    "\n",
    "    return AL, Y, caches"
   ]
  },
  {
   "cell_type": "code",
   "execution_count": 20,
   "metadata": {},
   "outputs": [
    {
     "name": "stdout",
     "output_type": "stream",
     "text": [
      "dW1 = [[0.41010002 0.07807203 0.13798444 0.10502167]\n",
      " [0.         0.         0.         0.        ]\n",
      " [0.05283652 0.01005865 0.01777766 0.0135308 ]]\n",
      "db1 = [[-0.22007063]\n",
      " [ 0.        ]\n",
      " [-0.02835349]]\n",
      "dA1 = [[ 0.12913162 -0.44014127]\n",
      " [-0.14175655  0.48317296]\n",
      " [ 0.01663708 -0.05670698]]\n"
     ]
    }
   ],
   "source": [
    "AL, Y_assess, caches = L_model_backward_test_case()\n",
    "grads = L_layer_model_Backward_prop(AL,Y_assess,caches)\n",
    "print (\"dW1 = \"+ str(grads[\"dw1\"]))\n",
    "print (\"db1 = \"+ str(grads[\"db1\"]))\n",
    "print (\"dA1 = \"+ str(grads[\"dA1\"]))     "
   ]
  },
  {
   "cell_type": "markdown",
   "metadata": {},
   "source": [
    "## Finally updating parameters"
   ]
  },
  {
   "cell_type": "code",
   "execution_count": 21,
   "metadata": {},
   "outputs": [],
   "source": [
    "def update_parameters(params,grads,learning_rate):\n",
    "    \n",
    "    L = len(params)//2\n",
    "    \n",
    "    for l in range(L):\n",
    "        params[\"w\" + str(l+1)] = params[\"w\" + str(l+1)] - learning_rate * (grads[\"dw\" + str(l+1)])\n",
    "        params[\"b\" + str(l+1)] = params[\"b\" + str(l+1)] - learning_rate * (grads[\"db\" + str(l+1)])\n",
    "        \n",
    "    return params"
   ]
  },
  {
   "cell_type": "code",
   "execution_count": 22,
   "metadata": {},
   "outputs": [],
   "source": [
    "# test case for parameter updation\n",
    "def update_params_test_case(): \n",
    "    np.random.seed(2)\n",
    "    w1 = np.random.randn(3,4)\n",
    "    b1 = np.random.randn(3,1)\n",
    "    w2 = np.random.randn(1,3)\n",
    "    b2 = np.random.randn(1,1)\n",
    "    parameters = {\"w1\": w1,\n",
    "                  \"b1\": b1,\n",
    "                  \"w2\": w2,\n",
    "                  \"b2\": b2}\n",
    "    np.random.seed(3)\n",
    "    dw1 = np.random.randn(3,4)\n",
    "    db1 = np.random.randn(3,1)\n",
    "    dw2 = np.random.randn(1,3)\n",
    "    db2 = np.random.randn(1,1)\n",
    "    grads = {\"dw1\": dw1,\n",
    "             \"db1\": db1,\n",
    "             \"dw2\": dw2,\n",
    "             \"db2\": db2}\n",
    "    \n",
    "    return parameters, grads\n"
   ]
  },
  {
   "cell_type": "code",
   "execution_count": 23,
   "metadata": {},
   "outputs": [
    {
     "name": "stdout",
     "output_type": "stream",
     "text": [
      "{'w1': array([[-0.59562069, -0.09991781, -2.14584584,  1.82662008],\n",
      "       [-1.76569676, -0.80627147,  0.51115557, -1.18258802],\n",
      "       [-1.0535704 , -0.86128581,  0.68284052,  2.20374577]]), 'b1': array([[-0.04659241],\n",
      "       [-1.28888275],\n",
      "       [ 0.53405496]]), 'w2': array([[-0.55569196,  0.0354055 ,  1.32964895]]), 'b2': array([[-0.84610769]])}\n",
      "{'dw1': array([[ 1.78862847,  0.43650985,  0.09649747, -1.8634927 ],\n",
      "       [-0.2773882 , -0.35475898, -0.08274148, -0.62700068],\n",
      "       [-0.04381817, -0.47721803, -1.31386475,  0.88462238]]), 'db1': array([[0.88131804],\n",
      "       [1.70957306],\n",
      "       [0.05003364]]), 'dw2': array([[-0.40467741, -0.54535995, -1.54647732]]), 'db2': array([[0.98236743]])}\n"
     ]
    }
   ],
   "source": [
    "params,grads = update_params_test_case()\n",
    "params = update_parameters(params,grads,0.1)\n",
    "print(params)\n",
    "print(grads)"
   ]
  },
  {
   "cell_type": "markdown",
   "metadata": {},
   "source": [
    "# Time to Create a Model"
   ]
  },
  {
   "cell_type": "markdown",
   "metadata": {},
   "source": [
    "## loading dataset "
   ]
  },
  {
   "cell_type": "code",
   "execution_count": 24,
   "metadata": {},
   "outputs": [],
   "source": [
    "import h5py\n",
    "import scipy\n",
    "from PIL import Image\n",
    "from scipy import ndimage"
   ]
  },
  {
   "cell_type": "code",
   "execution_count": 25,
   "metadata": {},
   "outputs": [],
   "source": [
    "def load_dataset():\n",
    "    train_dataset = h5py.File('cat_datasets/train_catvnoncat.h5',\"r\")\n",
    "    train_x = np.array(train_dataset[\"train_set_x\"][:])\n",
    "    train_y = np.array(train_dataset[\"train_set_y\"][:])\n",
    "    \n",
    "    test_dataset = h5py.File('cat_datasets/test_catvnoncat.h5',\"r\")\n",
    "    test_x = np.array(test_dataset[\"test_set_x\"][:])\n",
    "    test_y = np.array(test_dataset[\"test_set_y\"][:])\n",
    "    \n",
    "    classes = np.array(test_dataset[\"list_classes\"][:])\n",
    "    \n",
    "    train_y = train_y.reshape(1,train_y.shape[0])\n",
    "    test_y = test_y.reshape(1,test_y.shape[0])\n",
    "    \n",
    "    return train_x,train_y,test_x,test_y,classes"
   ]
  },
  {
   "cell_type": "code",
   "execution_count": 26,
   "metadata": {},
   "outputs": [],
   "source": [
    "train_x_orig,train_y,test_x_orig,test_y,classes = load_dataset()"
   ]
  },
  {
   "cell_type": "code",
   "execution_count": 27,
   "metadata": {},
   "outputs": [
    {
     "name": "stdout",
     "output_type": "stream",
     "text": [
      "y = 0. It's a non-cat picture.\n"
     ]
    },
    {
     "data": {
      "image/png": "[encoded data removed]",
      "text/plain": [
       "<Figure size 432x288 with 1 Axes>"
      ]
     },
     "metadata": {
      "needs_background": "light"
     },
     "output_type": "display_data"
    }
   ],
   "source": [
    "index = np.random.randint(0,len(train_x_orig))\n",
    "plt.imshow(train_x_orig[index])\n",
    "print (\"y = \" + str(train_y[0,index]) + \". It's a \" + classes[train_y[0,index]].decode(\"utf-8\") +  \" picture.\")"
   ]
  },
  {
   "cell_type": "code",
   "execution_count": 28,
   "metadata": {},
   "outputs": [],
   "source": [
    "m_train = train_x_orig.shape[0]\n",
    "num_ps = train_x_orig.shape[1]\n",
    "m_test = test_x_orig.shape[0]"
   ]
  },
  {
   "cell_type": "code",
   "execution_count": 29,
   "metadata": {},
   "outputs": [],
   "source": [
    "train_x_flatten = train_x_orig.reshape(train_x_orig.shape[0],-1).T\n",
    "\n",
    "test_x_flatten = test_x_orig.reshape(test_x_orig.shape[0],-1).T"
   ]
  },
  {
   "cell_type": "code",
   "execution_count": 30,
   "metadata": {},
   "outputs": [],
   "source": [
    "# Standardizing data to have feature values between 0 and 1 as max pixel in an image is 255\n",
    "train_x = train_x_flatten/255\n",
    "test_x = test_x_flatten/255"
   ]
  },
  {
   "cell_type": "code",
   "execution_count": 31,
   "metadata": {},
   "outputs": [
    {
     "data": {
      "text/plain": [
       "((12288, 209), (12288, 50))"
      ]
     },
     "execution_count": 31,
     "metadata": {},
     "output_type": "execute_result"
    }
   ],
   "source": [
    "train_x.shape,test_x.shape"
   ]
  },
  {
   "cell_type": "markdown",
   "metadata": {},
   "source": [
    "# Deep learning methodology to build the model\n",
    "1. Initialize parameters / Define hyperparameters\n",
    "\n",
    "   <br>\n",
    "2. Loop for num_iterations :<br>\n",
    "    a. Forward propagation<br>\n",
    "    b. Compute cost function<br>\n",
    "    c. Backward propagation<br>\n",
    "    d. Update parameters (using parameters, and grads from backprop)<br>\n",
    "   <br>\n",
    "4. Use trained parameters to predict labels\n"
   ]
  },
  {
   "cell_type": "markdown",
   "metadata": {},
   "source": [
    "# Two Layer NN\n",
    "Linear -> Relu -> Linear -> Sigmoid\n",
    "\n",
    "initalize_parameters_2LayerNN(nX,nH,nY)\n",
    "linear_forward_activation(A,w,b,activation)\n",
    "compute_cost(AL,Y)\n",
    "linear_backward_activation(dA,cache,activation)\n",
    "update_parameters(params,grads,learning_rate)\n"
   ]
  },
  {
   "cell_type": "code",
   "execution_count": 32,
   "metadata": {},
   "outputs": [
    {
     "data": {
      "text/plain": [
       "(12288, 209)"
      ]
     },
     "execution_count": 32,
     "metadata": {},
     "output_type": "execute_result"
    }
   ],
   "source": [
    "train_x.shape"
   ]
  },
  {
   "cell_type": "code",
   "execution_count": 33,
   "metadata": {},
   "outputs": [],
   "source": [
    "nX = train_x.shape[0]\n",
    "nH = 7\n",
    "nY=  1\n",
    "layers_dims = (nX,nH,nY)"
   ]
  },
  {
   "cell_type": "code",
   "execution_count": 34,
   "metadata": {},
   "outputs": [],
   "source": [
    "def Two_Layer_Model(X,Y,layers_dims,learning_rate = 0.0075,num_iterations = 3000,print_cost = False) : \n",
    "    \n",
    "    grads = {}\n",
    "    costs = []\n",
    "    m = X.shape[1]\n",
    "    (nX,nH,nY) = layers_dims\n",
    "    \n",
    "    params = initalize_parameters_2LayerNN(nX,nH,nY)\n",
    "    \n",
    "    w1 = params[\"w1\"]\n",
    "    b1 = params[\"b1\"]\n",
    "    w2 = params[\"w2\"]\n",
    "    b2 = params[\"b2\"]\n",
    "    \n",
    "    # Gradient Descent\n",
    "    \n",
    "    for i in range(num_iterations) : \n",
    "\n",
    "        # Forward Propogation\n",
    "        \n",
    "        A1,cache1 = linear_forward_activation(X,w1,b1,'relu')\n",
    "        A2,cache2 = linear_forward_activation(A1,w2,b2,'sigmoid')\n",
    "        \n",
    "        # Cost computation\n",
    "        cost = cost_function(A2,Y)\n",
    "        \n",
    "        # Backward Propogation\n",
    "        dA2 = -(np.divide(Y,A2) - np.divide((1-Y),(1-A2)))\n",
    "        \n",
    "        dA1,dw2,db2 = linear_backward_activation(dA2,cache2,'sigmoid')\n",
    "        dA0,dw1,db1 = linear_backward_activation(dA1,cache1,'relu')\n",
    "        \n",
    "        # setting grads\n",
    "        grads['dw1'] = dw1\n",
    "        grads['db1'] = db1\n",
    "        grads['dw2'] = dw2\n",
    "        grads['db2'] = db2\n",
    "        \n",
    "        # updating params\n",
    "        params = update_parameters(params,grads,learning_rate)\n",
    "        \n",
    "        # retrieving updated params\n",
    "        w1 = params['w1']\n",
    "        b1 = params['b1']\n",
    "        w2 = params['w2']\n",
    "        b2 = params['b2']\n",
    "        \n",
    "        # printing cost every 100th training example\n",
    "        if print_cost and i%100==0:\n",
    "            print(\"cost after iteration {} : {}\".format(i,np.squeeze(cost)))\n",
    "            \n",
    "        if print_cost and i%100==0:\n",
    "            costs.append(cost)\n",
    "            \n",
    "    # Plotting cost\n",
    "    plt.plot(np.squeeze(costs))\n",
    "    plt.ylabel('cost')\n",
    "    plt.xlabel('iteration (per 100)')\n",
    "    plt.title('Learning rate = ' + str(learning_rate))\n",
    "    plt.show()       \n",
    "        \n",
    "    return params\n",
    "        \n",
    "        "
   ]
  },
  {
   "cell_type": "code",
   "execution_count": 35,
   "metadata": {},
   "outputs": [
    {
     "name": "stdout",
     "output_type": "stream",
     "text": [
      "cost after iteration 0 : 0.6928635256274333\n",
      "cost after iteration 100 : 0.6461296634321673\n",
      "cost after iteration 200 : 0.6318864267240804\n",
      "cost after iteration 300 : 0.6002993938924782\n",
      "cost after iteration 400 : 0.5551582292667354\n",
      "cost after iteration 500 : 0.5012175056167325\n",
      "cost after iteration 600 : 0.44199139290079487\n",
      "cost after iteration 700 : 0.3826003011601113\n",
      "cost after iteration 800 : 0.3560378931659462\n",
      "cost after iteration 900 : 0.33714892101068894\n",
      "cost after iteration 1000 : 0.30360245611391223\n",
      "cost after iteration 1100 : 0.23690464531042313\n",
      "cost after iteration 1200 : 0.2116431400070725\n",
      "cost after iteration 1300 : 0.18024568595574358\n",
      "cost after iteration 1400 : 0.15097158281204967\n",
      "cost after iteration 1500 : 0.1264084936273641\n",
      "cost after iteration 1600 : 0.09979479683825734\n",
      "cost after iteration 1700 : 0.08194324604106969\n",
      "cost after iteration 1800 : 0.0682664795409177\n",
      "cost after iteration 1900 : 0.05997463677848483\n",
      "cost after iteration 2000 : 0.04870216596125383\n",
      "cost after iteration 2100 : 0.043113897341721046\n",
      "cost after iteration 2200 : 0.038457282226396175\n",
      "cost after iteration 2300 : 0.0345430096615336\n",
      "cost after iteration 2400 : 0.03131491056991241\n",
      "cost after iteration 2500 : 0.028386759084493635\n",
      "cost after iteration 2600 : 0.02595532197200468\n",
      "cost after iteration 2700 : 0.02376269585952304\n",
      "cost after iteration 2800 : 0.021881699516707386\n",
      "cost after iteration 2900 : 0.020253557387559098\n"
     ]
    },
    {
     "data": {
      "image/png": "[encoded data removed]",
      "text/plain": [
       "<Figure size 432x288 with 1 Axes>"
      ]
     },
     "metadata": {
      "needs_background": "light"
     },
     "output_type": "display_data"
    }
   ],
   "source": [
    "parameters = Two_Layer_Model(train_x, train_y, layers_dims = (nX,nH,nY), num_iterations = 3000, print_cost=True)"
   ]
  },
  {
   "cell_type": "code",
   "execution_count": 36,
   "metadata": {},
   "outputs": [],
   "source": [
    "def predict(X,Y,params) : \n",
    "    m = X.shape[1]\n",
    "    n = len(params) // 2\n",
    "    p = np.zeros((1,m))\n",
    "    probs,caches = L_layer_model_Forward_prop(X,params)\n",
    "    \n",
    "    # convert probs to 0/1 predictions\n",
    "    for i in range(0,probs.shape[1]):\n",
    "        if probs[0,i] > 0.5 : \n",
    "            p[0,i] = 1\n",
    "        else :\n",
    "            p[0,i] = 0\n",
    "    print(\"Accuracy: \"  + str(np.sum((p == Y)/m)))\n",
    "        \n",
    "    return p"
   ]
  },
  {
   "cell_type": "code",
   "execution_count": 37,
   "metadata": {},
   "outputs": [
    {
     "name": "stdout",
     "output_type": "stream",
     "text": [
      "Accuracy: 0.9999999999999998\n"
     ]
    }
   ],
   "source": [
    "predictions_train = predict(train_x,train_y,parameters)"
   ]
  },
  {
   "cell_type": "code",
   "execution_count": 38,
   "metadata": {},
   "outputs": [
    {
     "name": "stdout",
     "output_type": "stream",
     "text": [
      "Accuracy: 0.7000000000000001\n"
     ]
    }
   ],
   "source": [
    "predictions_test = predict(test_x,test_y,parameters)"
   ]
  },
  {
   "cell_type": "markdown",
   "metadata": {},
   "source": [
    "# L Layer NN \n",
    "[Linear -> Relu ] x (L-1) times -> [Linear -> Sigmoid]"
   ]
  },
  {
   "cell_type": "markdown",
   "metadata": {},
   "source": [
    "initialize_parameters_LlayerNN(layer_dims)\n",
    "L_layer_model_Forward_prop(X,params)  \n",
    "cost_function(AL,Y)   \n",
    "L_layer_model_Backward_prop(AL,Y,caches)   \n",
    "update_parameters(params,grads,learning_rate)"
   ]
  },
  {
   "cell_type": "code",
   "execution_count": 44,
   "metadata": {},
   "outputs": [],
   "source": [
    "L_layers_dims = [12288,30,15,7,1]"
   ]
  },
  {
   "cell_type": "code",
   "execution_count": 50,
   "metadata": {},
   "outputs": [],
   "source": [
    "def initialize_parameters_LlayerNN(layer_dims) : \n",
    "    # Changed the weigths per layer *0.01 to /np.sqrt(layer_dims[l-1])\n",
    "    \n",
    "    # number of layers\n",
    "    L = len(layer_dims) \n",
    "    np.random.seed(1)    \n",
    "    params = {}\n",
    "    \n",
    "    for l in range(1,L):\n",
    "        \n",
    "        # Weights per layer\n",
    "        params[\"w\" + str(l)] = np.random.randn(layer_dims[l],layer_dims[l-1])/np.sqrt(layer_dims[l-1])\n",
    "        \n",
    "        # Biases per layer\n",
    "        params[\"b\" + str(l)] = np.zeros((layer_dims[l],1))\n",
    "        \n",
    "    return params"
   ]
  },
  {
   "cell_type": "code",
   "execution_count": 46,
   "metadata": {},
   "outputs": [
    {
     "ename": "SyntaxError",
     "evalue": "EOL while scanning string literal (<ipython-input-46-db2abcd8a8e4>, line 25)",
     "output_type": "error",
     "traceback": [
      "\u001b[0;36m  File \u001b[0;32m\"<ipython-input-46-db2abcd8a8e4>\"\u001b[0;36m, line \u001b[0;32m25\u001b[0m\n\u001b[0;31m    print(\"Cost after iteratio\u001b[0m\n\u001b[0m                              ^\u001b[0m\n\u001b[0;31mSyntaxError\u001b[0m\u001b[0;31m:\u001b[0m EOL while scanning string literal\n"
     ]
    }
   ],
   "source": [
    "def L_Layer_Model(X,Y,L_layers_dims,learning_rate = 0.009,num_iterations = 3000,print_cost = False):\n",
    "    \n",
    "   \n",
    "    costs = []\n",
    "    \n",
    "    # initalizing params \n",
    "    params = initialize_parameters_LlayerNN(L_layers_dims)\n",
    "    \n",
    "    # Gradient descent\n",
    "    for i in range(0,num_iterations) : \n",
    "        \n",
    "        # Forward propogation\n",
    "        AL,caches = L_layer_model_Forward_prop(X,params)\n",
    "        \n",
    "        # Cost computation\n",
    "        cost = cost_function(AL,Y)\n",
    "        \n",
    "        # Backward propogation\n",
    "        grads = L_layer_model_Backward_prop(AL,Y,caches)\n",
    "        \n",
    "        # Updating parameters\n",
    "        params = update_parameters(params,grads,learning_rate)\n",
    "        \n",
    "        if print_cost and i%100 == 0:\n",
    "            print(\"Cost after iteratio\n",
    "                  n %i : %f\"%(i,cost))\n",
    "        if print_cost and i%100 == 0:    \n",
    "            costs.append(cost)\n",
    "\n",
    "    # plotting the cost\n",
    "    plt.plot(np.squeeze(costs))\n",
    "    plt.xlabel('cost')\n",
    "    plt.ylabel('iteration (per 100)')\n",
    "    plt.title('Learning rate : {}'.format(learning_rate))\n",
    "    plt.show()\n",
    "    \n",
    "    return params\n"
   ]
  },
  {
   "cell_type": "code",
   "execution_count": 47,
   "metadata": {},
   "outputs": [
    {
     "name": "stdout",
     "output_type": "stream",
     "text": [
      "Cost after iteration 0 : 0.697061\n",
      "Cost after iteration 100 : 0.622205\n",
      "Cost after iteration 200 : 0.543083\n",
      "Cost after iteration 300 : 0.466725\n",
      "Cost after iteration 400 : 0.394039\n",
      "Cost after iteration 500 : 0.332412\n",
      "Cost after iteration 600 : 0.265048\n",
      "Cost after iteration 700 : 0.224890\n",
      "Cost after iteration 800 : 0.095840\n",
      "Cost after iteration 900 : 0.057267\n",
      "Cost after iteration 1000 : 0.036193\n",
      "Cost after iteration 1100 : 0.024596\n",
      "Cost after iteration 1200 : 0.017837\n",
      "Cost after iteration 1300 : 0.013607\n",
      "Cost after iteration 1400 : 0.010790\n",
      "Cost after iteration 1500 : 0.008804\n",
      "Cost after iteration 1600 : 0.007358\n",
      "Cost after iteration 1700 : 0.006262\n",
      "Cost after iteration 1800 : 0.005418\n",
      "Cost after iteration 1900 : 0.004746\n",
      "Cost after iteration 2000 : 0.004205\n",
      "Cost after iteration 2100 : 0.003761\n",
      "Cost after iteration 2200 : 0.003390\n",
      "Cost after iteration 2300 : 0.003078\n",
      "Cost after iteration 2400 : 0.002813\n"
     ]
    },
    {
     "data": {
      "image/png": "[encoded data removed]",
      "text/plain": [
       "<Figure size 432x288 with 1 Axes>"
      ]
     },
     "metadata": {
      "needs_background": "light"
     },
     "output_type": "display_data"
    }
   ],
   "source": [
    "parameters = L_Layer_Model(train_x,train_y,L_layers_dims,learning_rate = 0.009,num_iterations=2500,print_cost=True)"
   ]
  },
  {
   "cell_type": "code",
   "execution_count": 51,
   "metadata": {},
   "outputs": [
    {
     "name": "stdout",
     "output_type": "stream",
     "text": [
      "Accuracy: 0.9999999999999998\n"
     ]
    }
   ],
   "source": [
    "pred_train = predict(train_x,train_y,parameters)"
   ]
  },
  {
   "cell_type": "code",
   "execution_count": 52,
   "metadata": {},
   "outputs": [
    {
     "name": "stdout",
     "output_type": "stream",
     "text": [
      "Accuracy: 0.78\n"
     ]
    }
   ],
   "source": [
    "pred_test = predict(test_x,test_y,parameters)"
   ]
  },
  {
   "cell_type": "code",
   "execution_count": null,
   "metadata": {},
   "outputs": [],
   "source": []
  }
 ],
 "metadata": {
  "kernelspec": {
   "display_name": "Python 3",
   "language": "python",
   "name": "python3"
  },
  "language_info": {
   "codemirror_mode": {
    "name": "ipython",
    "version": 3
   },
   "file_extension": ".py",
   "mimetype": "text/x-python",
   "name": "python",
   "nbconvert_exporter": "python",
   "pygments_lexer": "ipython3",
   "version": "3.6.9"
  }
 },
 "nbformat": 4,
 "nbformat_minor": 4
}
